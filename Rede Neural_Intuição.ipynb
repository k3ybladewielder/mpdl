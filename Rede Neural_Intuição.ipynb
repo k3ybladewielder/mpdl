{
 "cells": [
  {
   "cell_type": "markdown",
   "metadata": {},
   "source": [
    "Neste notebook, vamos codificar Redes Neurais de forma manual para tentar entender intuitivamente como elas são implementadas na prática."
   ]
  },
  {
   "cell_type": "markdown",
   "metadata": {},
   "source": [
    "# Sumário"
   ]
  },
  {
   "cell_type": "markdown",
   "metadata": {},
   "source": [
    "- [Exemplo 1](#Exemplo-1)\n",
    "- [Exemplo 2](#Exemplo-2)\n",
    "- [O que precisamos para implementar uma Rede Neural?](#O-que-precisamos-para-implementar-uma-Rede-Neural?)\n",
    "- [Referências](#Referências)"
   ]
  },
  {
   "cell_type": "markdown",
   "metadata": {},
   "source": [
    "# Imports e Configurações"
   ]
  },
  {
   "cell_type": "code",
   "execution_count": 1,
   "metadata": {
    "ExecuteTime": {
     "end_time": "2023-05-11T21:48:32.069431Z",
     "start_time": "2023-05-11T21:48:31.997287Z"
    }
   },
   "outputs": [],
   "source": [
    "import numpy as np"
   ]
  },
  {
   "cell_type": "markdown",
   "metadata": {},
   "source": [
    "# Exemplo 1"
   ]
  },
  {
   "cell_type": "markdown",
   "metadata": {},
   "source": [
    "<img src=\"./images/backprop_example_1.png\">"
   ]
  },
  {
   "cell_type": "code",
   "execution_count": 2,
   "metadata": {
    "ExecuteTime": {
     "end_time": "2023-05-11T21:48:32.078557Z",
     "start_time": "2023-05-11T21:48:32.073184Z"
    }
   },
   "outputs": [],
   "source": [
    "# implementando a função de ativação sigmoid\n",
    "def sigmoid(x, derivative=False):\n",
    "    # Função de ativação sigmoid\n",
    "    if derivative:\n",
    "        # Calcula a derivada da função sigmoid em relação a x\n",
    "        # y é o resultado da função sigmoid aplicada a x\n",
    "        # Retorna a derivada da função sigmoid aplicada a x\n",
    "        y = sigmoid(x)\n",
    "        return y * (1 - y)\n",
    "        \n",
    "    # Retorna o resultado da função sigmoid aplicada a x\n",
    "    return 1 / (1 + np.exp(-x))"
   ]
  },
  {
   "cell_type": "code",
   "execution_count": 3,
   "metadata": {
    "ExecuteTime": {
     "end_time": "2023-05-11T21:48:32.084831Z",
     "start_time": "2023-05-11T21:48:32.080583Z"
    }
   },
   "outputs": [],
   "source": [
    "# inicializando entradas\n",
    "x = np.array([[0.05, 0.10]])\n",
    "y = np.array([[0.01, 0.99]])\n",
    "\n",
    "# inicializando pesos e bias\n",
    "w1 = np.array([[0.15, 0.20], [0.25, 0.30]]) # array com 2x2\n",
    "b1 = np.array([[0.35]])\n",
    "\n",
    "# pesos e bias da segunda camada\n",
    "w2 = np.array([[0.40, 0.45], [0.50, 0.55]]) # array 2x2\n",
    "b2 = np.array([[0.60]])\n",
    "\n",
    "learning_rate = 0.5"
   ]
  },
  {
   "cell_type": "code",
   "execution_count": 4,
   "metadata": {
    "ExecuteTime": {
     "end_time": "2023-05-11T21:48:32.093210Z",
     "start_time": "2023-05-11T21:48:32.086794Z"
    }
   },
   "outputs": [],
   "source": [
    "# camada feed foward\n",
    "for i in range(1):\n",
    "    # primeira camada\n",
    "    inp1 = np.dot(x, w1.T) + b1\n",
    "    h1 = sigmoid(inp1)\n",
    "    \n",
    "    # segunda camada\n",
    "    inp2 = np.dot(h1, w2.T) + b2\n",
    "    out = sigmoid(inp2)\n",
    "    \n",
    "    # custo\n",
    "    cost = 0.5 * np.sum((y - out) ** 2)\n",
    "    \n",
    "    # backpropagation\n",
    "    dout = -(y - out) # derivada do custo (antes usado como 1 nos exemplos)\n",
    "    \n",
    "    # segunda camada\n",
    "    dinp2 = sigmoid(inp2, derivative=True) * dout\n",
    "    dh1 = np.dot(dinp2, w2)\n",
    "    dw2 = np.dot(dinp2.T, h1)\n",
    "    db2 = 1 * dinp2.sum(axis=0, keepdims=True) # multiplicando mantendo dimensao para manter como um vetor 2d\n",
    "    \n",
    "    # primeira camada\n",
    "    dinp1 = sigmoid(inp1, derivative = True) * dh1\n",
    "    dx = np.dot(dinp1, w1)\n",
    "    dw1 = np.dot(dinp1.T, x)\n",
    "    db1 = 1 * dinp1.sum(axis=0, keepdims = True)\n",
    "\n",
    "    # atualizando os pesos e bias\n",
    "    w2 = w2 - learning_rate * dw2\n",
    "    b2 = b2 - learning_rate * db2\n",
    "    w1 = w1 - learning_rate * dw1\n",
    "    b1 = b1 - learning_rate * db1"
   ]
  },
  {
   "cell_type": "markdown",
   "metadata": {},
   "source": [
    "# Exemplo 2"
   ]
  },
  {
   "cell_type": "code",
   "execution_count": 5,
   "metadata": {
    "ExecuteTime": {
     "end_time": "2023-05-11T21:48:32.105537Z",
     "start_time": "2023-05-11T21:48:32.095612Z"
    }
   },
   "outputs": [],
   "source": [
    "def linear(x, derivative=False):\n",
    "    return np.ones_like(x) if derivative else x\n",
    "\n",
    "def relu(x, derivative=False):\n",
    "    if derivative:\n",
    "        x = np.where(x <= 0, 0, 1)\n",
    "    return np.maximum(0, x)\n",
    "\n",
    "def softmax(x, y_oh=None, derivative=False):\n",
    "    if derivative:\n",
    "        y_pred = softmax(x)\n",
    "        k = np.nonzero(y_pred * y_oh)\n",
    "        pk = y_pred[k]\n",
    "        y_pred[k] = pk * (1.0 - pk)\n",
    "        return y_pred\n",
    "    \n",
    "    exp = np.exp(x)    \n",
    "    return exp / np.sum(exp, axis=1, keepdims=True) # mantendo as dimensoes para somar os valores linha a linha mantendo as dimensoes\n",
    "\n",
    "def neg_log_likelihood(y_oh, y_pred, derivative=False):\n",
    "    k = np.nonzero(y_pred * y_oh)\n",
    "    pk = y_pred[k]\n",
    "    if derivative:\n",
    "        y_pred[k] = (-1.0 / pk)\n",
    "        return y_pred\n",
    "    return np.mean(-np.log(pk))\n",
    "\n",
    "def softmax_neg_log_likelihood(y_oh, y_pred, derivative=False):\n",
    "    y_softmax = softmax(y_pred)\n",
    "    if derivative:\n",
    "        k = np.nonzero(y_pred * y_oh)\n",
    "        dlog = neg_log_likelihood(y_oh, y_softmax, derivative=True)\n",
    "        dsoftmax = softmax(y_pred, y_oh, derivative=True)\n",
    "        y_softmax[k] = dlog[k] * dsoftmax[k]\n",
    "        return y_softmax / y_softmax.shape[0]\n",
    "    return neg_log_likelihood(y_oh, y_softmax)\n",
    "\n",
    "# import numpy as np\n",
    "\n",
    "# def linear(x, derivative=False):\n",
    "#     # Retorna uma matriz de mesma forma que x com todos os elementos iguais a 1\n",
    "#     if derivative:\n",
    "#         return np.ones_like(x)\n",
    "#     else:\n",
    "#         return x\n",
    "\n",
    "# def relu(x, derivative=False):\n",
    "#     # Função de ativação ReLU (Rectified Linear Unit)\n",
    "#     if derivative:\n",
    "#         # Retorna uma matriz de mesma forma que x com valores 0 onde x é menor\n",
    "#         #ou igual a 0 e 1 onde x é maior que 0\n",
    "#         return np.where(x <= 0, 0, 1)\n",
    "#     else:\n",
    "#         # Retorna uma matriz de mesma forma que x com valores 0 onde x é menor que\n",
    "#         #0 e x onde x é maior ou igual a 0\n",
    "#         return np.maximum(0, x)\n",
    "\n",
    "# def softmax(x, y_oh=None, derivative=False):\n",
    "#     # Função de ativação Softmax\n",
    "#     if derivative:\n",
    "#         # Calcula a derivada da função softmax em relação a x\n",
    "#         # y_oh é a codificação one-hot do vetor de rótulos verdadeiros y\n",
    "#         # Retorna uma matriz com as derivadas parciais da função softmax em relação a cada elemento de x\n",
    "#         y_pred = softmax(x)\n",
    "#         k = np.nonzero(y_pred * y_oh)\n",
    "#         pk = y_pred[k]\n",
    "#         y_pred[k] = pk * (1.0 - pk)\n",
    "#         return y_pred\n",
    "    \n",
    "#     exp = np.exp(x)    \n",
    "#     # Retorna uma matriz com as probabilidades resultantes da função softmax aplicada a cada linha de x\n",
    "#     return exp / np.sum(exp, axis=1, keepdims=True)\n",
    "\n",
    "# def neg_log_likelihood(y_oh, y_pred, derivative=False):\n",
    "#     # Calcula a perda negativa do logaritmo de verossimilhança\n",
    "#     # y_oh é a codificação one-hot do vetor de rótulos verdadeiros y\n",
    "#     # y_pred é o vetor de probabilidades previstas pelo modelo\n",
    "#     k = np.nonzero(y_pred * y_oh)\n",
    "#     pk = y_pred[k]\n",
    "#     if derivative:\n",
    "#         # Calcula a derivada da perda em relação a y_pred\n",
    "#         # Retorna uma matriz com as derivadas parciais da perda em relação a cada elemento de y_pred\n",
    "#         y_pred[k] = (-1.0 / pk)\n",
    "#         return y_pred\n",
    "#     # Retorna a média da perda negativa do logaritmo de verossimilhança\n",
    "#     return np.mean(-np.log(pk))\n",
    "\n",
    "# def softmax_neg_log_likelihood(y_oh, y_pred, derivative=False):\n",
    "#     # Calcula a perda negativa do logaritmo de verossimilhança combinada com a função softmax\n",
    "#     # y_oh é a codificação one-hot do vetor de rótulos verdadeiros y\n",
    "#     # y_pred é o vetor de probabilidades previstas pelo modelo\n",
    "#     y_softmax = softmax(y_pred)\n",
    "#     if derivative:\n",
    "#         # Calcula a derivada da perda combinada em relação a y_pred\n",
    "#         # Retorna uma matriz com as derivadas parciais da perda combinada em \n",
    "#         #relação a cada elemento de y_pred\n",
    "#         k = np.nonzero(y_pred * y_oh)\n",
    "#         dlog = neg_log_likelihood(y_oh, y_softmax, derivative=True)\n",
    "#         dsoftmax = softmax(y_pred, y_oh, derivative=True)\n",
    "#         y_softmax[k] = dlog[k] * dsoftmax[k]\n",
    "#     # Retorna a perda negativa do logaritmo\n",
    "#     return y_softmax / y_softmax.shape[0]"
   ]
  },
  {
   "cell_type": "code",
   "execution_count": 6,
   "metadata": {
    "ExecuteTime": {
     "end_time": "2023-05-11T21:48:32.175065Z",
     "start_time": "2023-05-11T21:48:32.106937Z"
    }
   },
   "outputs": [
    {
     "name": "stdout",
     "output_type": "stream",
     "text": [
      "1.1674456052871238\n",
      "0.6079795820435693\n",
      "0.36558760028370507\n",
      "0.2494345154899926\n",
      "0.18547915491555542\n",
      "0.14614614804167672\n",
      "0.1199051550833629\n",
      "0.10131084011234358\n",
      "0.08751844300750028\n",
      "0.07691720650783256\n",
      "0.06853445083252654\n",
      "[[0.10083595 0.2016719  0.30585165]\n",
      " [0.30086971 0.20173942 0.70608796]\n",
      " [0.40145052 0.30290104 0.91015363]]\n",
      "[[0.20544723 0.30673159 0.50749567]\n",
      " [0.30994562 0.5123005  0.71366784]\n",
      " [0.61065514 0.41317913 0.81464085]]\n",
      "[[ 0.66465527  0.98758148  1.39393956]\n",
      " [ 0.05020341  0.44006253 -0.06274803]\n",
      " [ 0.18514132 -0.12764401  0.56880846]]\n"
     ]
    }
   ],
   "source": [
    "x = np.array([[0.1, 0.2, 0.7]])\n",
    "y = np.array([[1, 0, 0]])\n",
    "\n",
    "# Pesos e bias para a primeira camada\n",
    "w1 = np.array([[0.1, 0.2, 0.3], [0.3, 0.2, 0.7], [0.4, 0.3, 0.9]])\n",
    "b1 = np.ones((1,3))\n",
    "\n",
    "# Pesos e bias para a segunda camada\n",
    "w2 = np.array([[0.2, 0.3, 0.5], [0.3, 0.5, 0.7], [0.6, 0.4, 0.8]])\n",
    "b2 = np.ones((1,3))\n",
    "\n",
    "# Pesos e bias para a terceira camada\n",
    "w3 = np.array([[0.1, 0.4, 0.8], [0.3, 0.7, 0.2], [0.5, 0.2, 0.9]])\n",
    "b3 = np.ones((1,3))\n",
    "\n",
    "learning_rate = 0.01\n",
    "\n",
    "# Loop de treinamento\n",
    "for i in range(301):\n",
    "    # Feedforward\n",
    "    \n",
    "    # 1a camada\n",
    "    inp1 = np.dot(x, w1.T) + b1\n",
    "    h1 = relu(inp1)\n",
    "    \n",
    "    # 2a camada\n",
    "    inp2 = np.dot(h1, w2.T) + b2\n",
    "    h2 = sigmoid(inp2)\n",
    "    \n",
    "    # 3a camada\n",
    "    inp3 = np.dot(h2, w3.T) + b3\n",
    "    out = linear(inp3)\n",
    "    \n",
    "    cost = softmax_neg_log_likelihood(y, out)\n",
    "    \n",
    "    # Backpropagation\n",
    "    \n",
    "    # Cálculo do gradiente da perda em relação à saída da última camada\n",
    "    dout = softmax_neg_log_likelihood(y, out, derivative=True)\n",
    "    \n",
    "    # 3a camada\n",
    "    dinp3 = linear(inp3, derivative=True) * dout\n",
    "    dh2 = np.dot(dinp3, w3)\n",
    "    dw3 = np.dot(dinp3.T, h2)\n",
    "    db3 = 1.0 * dinp3.sum(axis=0, keepdims=True)\n",
    "    \n",
    "    # 2a camada\n",
    "    dinp2 = sigmoid(inp2, derivative=True) * dh2\n",
    "    dh1 = np.dot(dinp2, w2)\n",
    "    dw2 = np.dot(dinp2.T, h1)\n",
    "    db2 = 1.0 * dinp2.sum(axis=0, keepdims=True)\n",
    "    \n",
    "    # 1a camada\n",
    "    dinp1 = relu(inp1, derivative=True) * dh1\n",
    "    dx = np.dot(dinp1, w1)\n",
    "    dw1 = np.dot(dinp1.T, x)\n",
    "    db1 = 1.0 * dinp1.sum(axis=0, keepdims=True)\n",
    "    \n",
    "    # atualizando pesos e bias\n",
    "    w3 = w3 - learning_rate * dw3\n",
    "    b3 = b3 - learning_rate * db3\n",
    "    \n",
    "    w2 = w2 - learning_rate * dw2\n",
    "    b2 = b2 - learning_rate * db2\n",
    "    \n",
    "    w1 = w1 - learning_rate * dw1\n",
    "    b1 = b1 - learning_rate * db1\n",
    "    \n",
    "    \n",
    "    # verificando as saídas\n",
    "    if i % 30 == 0:\n",
    "        cost = softmax_neg_log_likelihood(y, out)\n",
    "        print(cost)\n",
    "        \n",
    "for w in [w1, w2, w3]:\n",
    "    print(w)"
   ]
  },
  {
   "cell_type": "markdown",
   "metadata": {},
   "source": [
    "# O que precisamos para implementar uma Rede Neural?"
   ]
  },
  {
   "cell_type": "markdown",
   "metadata": {},
   "source": [
    "# Referências"
   ]
  },
  {
   "cell_type": "markdown",
   "metadata": {},
   "source": [
    "- [Neural Network from Scratch](https://beckernick.github.io/neural-network-scratch/)\n",
    "- [Backpropagation Algorithm](https://theclevermachine.wordpress.com/tag/backpropagation-algorithm/)\n",
    "- [Back-Propagation is very simple. Who made it Complicated ?](https://becominghuman.ai/back-propagation-is-very-simple-who-made-it-complicated-97b794c97e5c)\n",
    "- [A Step by Step Backpropagation Example](https://mattmazur.com/2015/03/17/a-step-by-step-backpropagation-example/)\n",
    "- [Understanding softmax and the negative log-likelihood](https://ljvmiranda921.github.io/notebook/2017/08/13/softmax-and-the-negative-log-likelihood/)"
   ]
  }
 ],
 "metadata": {
  "kernelspec": {
   "display_name": "Python 3 (ipykernel)",
   "language": "python",
   "name": "python3"
  },
  "language_info": {
   "codemirror_mode": {
    "name": "ipython",
    "version": 3
   },
   "file_extension": ".py",
   "mimetype": "text/x-python",
   "name": "python",
   "nbconvert_exporter": "python",
   "pygments_lexer": "ipython3",
   "version": "3.10.6"
  },
  "toc": {
   "base_numbering": 1,
   "nav_menu": {},
   "number_sections": true,
   "sideBar": true,
   "skip_h1_title": false,
   "title_cell": "Table of Contents",
   "title_sidebar": "Contents",
   "toc_cell": false,
   "toc_position": {},
   "toc_section_display": true,
   "toc_window_display": false
  },
  "varInspector": {
   "cols": {
    "lenName": 16,
    "lenType": 16,
    "lenVar": 40
   },
   "kernels_config": {
    "python": {
     "delete_cmd_postfix": "",
     "delete_cmd_prefix": "del ",
     "library": "var_list.py",
     "varRefreshCmd": "print(var_dic_list())"
    },
    "r": {
     "delete_cmd_postfix": ") ",
     "delete_cmd_prefix": "rm(",
     "library": "var_list.r",
     "varRefreshCmd": "cat(var_dic_list()) "
    }
   },
   "types_to_exclude": [
    "module",
    "function",
    "builtin_function_or_method",
    "instance",
    "_Feature"
   ],
   "window_display": false
  }
 },
 "nbformat": 4,
 "nbformat_minor": 2
}
