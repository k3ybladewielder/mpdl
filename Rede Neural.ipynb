{
 "cells": [
  {
   "cell_type": "markdown",
   "metadata": {},
   "source": [
    "# Sumário"
   ]
  },
  {
   "cell_type": "markdown",
   "metadata": {},
   "source": [
    "[Funções de Ativação](#Funções-de-Ativação)\n",
    "\n",
    "[Funções Auxiliares](#Funções-Auxiliares)\n",
    "\n",
    "[Funções de Custo](#Funções-de-Custo)\n",
    "\n",
    "[Inicialização de Pesos](#Inicialização-de-Pesos)\n",
    "\n",
    "[Regularização](#Regularização)\n",
    "\n",
    "[Learning Rate Decay](#Learning-Rate-Decay)\n",
    "\n",
    "[Batch Normalization](#Batch-Normalization)\n",
    "\n",
    "[Batch Generator](#Batch-Generator)\n",
    "\n",
    "[Implementação](#Implementação)\n",
    "\n",
    "[Testes da Implementação](#Testes-da-Implementação)\n",
    "\n",
    "- [Exemplos do Notebook da Intuição](#Exemplos-do-Notebook-da-Intuição)\n",
    "\n",
    "- [Regressão](#Regressão)\n",
    "    - [Regressão Linear Simples](#Regressão-Linear-Simples---Exemplo-do-Perceptron)\n",
    "    - [Regressão Linear Multivariada](#Regressão-Linear-Multivariada---Exerc%C3%ADcio-de-Regressão-do-Perceptron)\n",
    "    - [Regressão Quadrática](#Regressão-Quadrática)\n",
    "    - [Regressão Cúbica](#Regressão-Cúbica)\n",
    "    - [Regressão Logarítimica](#Regressão-Logar%C3%ADtimica)\n",
    "    - [Regressão Exponencial](#Regressão-Exponencial)\n",
    "\n",
    "- [Classificação Binária](#Classificação-Binária)\n",
    "    - [Porta AND/OR](#Porta-AND/OR)\n",
    "    - [Porta XOR](#Porta-XOR)\n",
    "    - [2 Clusters](#2-Clusters)\n",
    "    - [4 Clusters](#4-Clusters)\n",
    "    - [Círculos](#C%C3%ADrculos)\n",
    "    - [Moons](#Moons)\n",
    "    - [Espiral](#Espiral)\n",
    "    \n",
    "- [Classificação Multiclasse](#Classificação-Multiclasse)\n",
    "    - [3 Clusters Multiclasse](#3-Clusters-Multiclasse)\n",
    "    - [4 Clusters Multiclasse](#4-Clusters-Multiclasse)\n",
    "    - [Espiral - 5 Classes](#Espiral---5-Classes)\n",
    "    - [Make Classification - 4 Classes](#Make-Classification---4-Classes)\n",
    "    - [Iris Dataset](#Iris-Dataset)\n",
    "\n",
    "[Referências](#Referências)"
   ]
  },
  {
   "cell_type": "markdown",
   "metadata": {},
   "source": [
    "# Imports and Configurações"
   ]
  },
  {
   "cell_type": "code",
   "execution_count": 16,
   "metadata": {
    "ExecuteTime": {
     "end_time": "2023-05-13T14:46:03.447820Z",
     "start_time": "2023-05-13T14:46:03.429909Z"
    }
   },
   "outputs": [],
   "source": [
    "import numpy as np\n",
    "import _pickle as pkl\n",
    "import matplotlib.pyplot as plt\n",
    "from sklearn.datasets import load_iris\n",
    "from sklearn.datasets import make_blobs, make_circles, make_moons, make_classification\n",
    "from sklearn.metrics import accuracy_score\n",
    "from sklearn.preprocessing import MinMaxScaler, OneHotEncoder\n",
    "from utils import plot\n",
    "from utils.samples_generator import make_spiral, make_square, make_cubic, make_exp, make_log10\n",
    "\n",
    "%matplotlib inline"
   ]
  },
  {
   "cell_type": "markdown",
   "metadata": {},
   "source": [
    "# Funções de Ativação"
   ]
  },
  {
   "cell_type": "code",
   "execution_count": 17,
   "metadata": {
    "ExecuteTime": {
     "end_time": "2023-05-13T14:46:03.454420Z",
     "start_time": "2023-05-13T14:46:03.449172Z"
    }
   },
   "outputs": [],
   "source": [
    "def linear(x, derivative=False):\n",
    "    return np.ones_like(x) if derivative else x\n",
    "\n",
    "def sigmoid(x, derivative=False):\n",
    "    if derivative:\n",
    "        y = sigmoid(x)\n",
    "        return y*(1 - y)\n",
    "    return 1.0/(1.0 + np.exp(-x))\n",
    "\n",
    "def tanh(x, derivative=False):\n",
    "    if derivative:\n",
    "        y = tanh(x)\n",
    "        return 1 - y**2\n",
    "    return (np.exp(x) - np.exp(-x))/(np.exp(x) + np.exp(-x))\n",
    "\n",
    "def relu(x, derivative=False):\n",
    "    if derivative:\n",
    "        return np.where(x <= 0, 0, 1)\n",
    "    return np.maximum(0, x)\n",
    "\n",
    "def leaky_relu(x, derivative=False):\n",
    "    alpha = 0.1\n",
    "    if derivative:\n",
    "        return np.where(x <= 0, alpha, 1)\n",
    "    return np.where(x <= 0, alpha*x, x)\n",
    "\n",
    "def elu(x, derivative=False):\n",
    "    alpha = 1.0\n",
    "    if derivative:\n",
    "        y = elu(x)\n",
    "        return np.where(x <= 0, y + alpha, 1)\n",
    "    return np.where(x <= 0, alpha*(np.exp(x) - 1), x)"
   ]
  },
  {
   "cell_type": "markdown",
   "metadata": {},
   "source": [
    "# Funções Auxiliares"
   ]
  },
  {
   "cell_type": "code",
   "execution_count": 18,
   "metadata": {
    "ExecuteTime": {
     "end_time": "2023-05-13T14:46:03.459751Z",
     "start_time": "2023-05-13T14:46:03.455610Z"
    }
   },
   "outputs": [],
   "source": [
    "def softmax(x, y_oh=None, derivative=False):\n",
    "    if derivative:\n",
    "        y_pred = softmax(x)\n",
    "        k = np.nonzero(y_pred * y_oh)\n",
    "        pk = y_pred[k]\n",
    "        y_pred[k] = pk * (1.0 - pk)\n",
    "        return y_pred\n",
    "    exp = np.exp(x)\n",
    "    return exp / np.sum(exp, axis=1, keepdims=True)"
   ]
  },
  {
   "cell_type": "markdown",
   "metadata": {},
   "source": [
    "# Funções de Custo"
   ]
  },
  {
   "cell_type": "markdown",
   "metadata": {},
   "source": [
    "###### Para Regressão"
   ]
  },
  {
   "cell_type": "code",
   "execution_count": 19,
   "metadata": {
    "ExecuteTime": {
     "end_time": "2023-05-13T14:46:03.463754Z",
     "start_time": "2023-05-13T14:46:03.460751Z"
    }
   },
   "outputs": [],
   "source": [
    "def mae(y, y_pred, derivative=True):\n",
    "    if derivative:\n",
    "        return np.where(y_pred > y, 1, -1) / y.shape[0]\n",
    "    return np.mean(np.abs(y - y_pred))\n",
    "\n",
    "def mse(y, y_pred, derivative=False):\n",
    "    if derivative:\n",
    "        return -(y - y_pred) / y.shape[0]\n",
    "    return 0.5 * np.mean((y - y_pred) ** 2)"
   ]
  },
  {
   "cell_type": "markdown",
   "metadata": {},
   "source": [
    "###### Para Classificação Binária"
   ]
  },
  {
   "cell_type": "code",
   "execution_count": 20,
   "metadata": {
    "ExecuteTime": {
     "end_time": "2023-05-13T14:46:03.468488Z",
     "start_time": "2023-05-13T14:46:03.464550Z"
    }
   },
   "outputs": [],
   "source": [
    "def binary_cross_entrope(y, y_pred, derivative=False):\n",
    "    if derivative:\n",
    "        return -(y - y_pred) / (y_pred * (1 - y_pred) * y.shape[0])\n",
    "    return - np.mean(y * np.log(y_pred) + (1 - y) * np.log(1 - y_pred))\n",
    "\n",
    "def sigmoid_cross_entropy(y, y_pred, derivative=True):\n",
    "    y_sigmoid = sigmoid(y_pred)\n",
    "    if derivative:\n",
    "        return -(y - y_sigmoid) / y.shape[0]\n",
    "    return - np.mean(y * np.log(y_sigmoid) + (1 - y) * np.log(1 - y_sigmoid))"
   ]
  },
  {
   "cell_type": "markdown",
   "metadata": {},
   "source": [
    "###### Para Classificação Multiclasse"
   ]
  },
  {
   "cell_type": "code",
   "execution_count": 21,
   "metadata": {
    "ExecuteTime": {
     "end_time": "2023-05-13T14:46:03.474269Z",
     "start_time": "2023-05-13T14:46:03.469444Z"
    }
   },
   "outputs": [],
   "source": [
    "def neg_log_likelihood(y_oh, y_pred, derivative=False):\n",
    "    k = np.nonzero(y_pred * y_oh)\n",
    "    pk = y_pred[k]\n",
    "    if derivative:\n",
    "        y_pred[k] = (-1.0 / pk)\n",
    "        return y_pred\n",
    "    return np.mean(-np.log(pk))\n",
    "\n",
    "def softmax_neg_log_likelihood(y_oh, y_pred, derivative=False):\n",
    "    y_softmax = softmax(y_pred)\n",
    "    if derivative:\n",
    "        return -(y_oh - y_softmax) / y_oh.shape[0]    \n",
    "    return neg_log_likelihood(y_oh, y_softmax)"
   ]
  },
  {
   "cell_type": "markdown",
   "metadata": {},
   "source": [
    "# Inicialização de Pesos"
   ]
  },
  {
   "cell_type": "code",
   "execution_count": null,
   "metadata": {},
   "outputs": [],
   "source": []
  },
  {
   "cell_type": "markdown",
   "metadata": {},
   "source": [
    "# Regularização"
   ]
  },
  {
   "cell_type": "code",
   "execution_count": null,
   "metadata": {},
   "outputs": [],
   "source": []
  },
  {
   "cell_type": "markdown",
   "metadata": {},
   "source": [
    "# Batch Generator"
   ]
  },
  {
   "cell_type": "code",
   "execution_count": null,
   "metadata": {},
   "outputs": [],
   "source": []
  },
  {
   "cell_type": "markdown",
   "metadata": {},
   "source": [
    "# Learning Rate Decay"
   ]
  },
  {
   "cell_type": "code",
   "execution_count": null,
   "metadata": {},
   "outputs": [],
   "source": []
  },
  {
   "cell_type": "markdown",
   "metadata": {},
   "source": [
    "# Batch Normalization "
   ]
  },
  {
   "cell_type": "code",
   "execution_count": null,
   "metadata": {},
   "outputs": [],
   "source": []
  },
  {
   "cell_type": "markdown",
   "metadata": {},
   "source": [
    "# Implementação "
   ]
  },
  {
   "cell_type": "code",
   "execution_count": 34,
   "metadata": {
    "ExecuteTime": {
     "end_time": "2023-05-13T14:52:00.081784Z",
     "start_time": "2023-05-13T14:52:00.070192Z"
    }
   },
   "outputs": [],
   "source": [
    "# camada\n",
    "class Layer():\n",
    "    def __init__(self, input_dim, output_dim, activation=linear):\n",
    "        self.input = None\n",
    "        self.weights = np.random.randn(output_dim, input_dim) # linhas x colunas (inicalizando de forma aleatória)\n",
    "        self.biases = np.random.randn(1, output_dim) #output_dim = quantidade de neuronios da camada\n",
    "        self.activation = activation\n",
    "        \n",
    "        # entrada e saída da função de ativação, usada nas derivadas\n",
    "        self._activ_inp, self._activ_out = None, None\n",
    "        \n",
    "        # vars para armazenar a derivada em relacao aos pesos e em relacao aos bias\n",
    "        self._dweights, self._dbiases = None, None\n",
    "\n",
    "# rede\n",
    "class NeuralNetwork():\n",
    "    def __init__(self, cost_func=mse, learning_rate=1e-3):\n",
    "        self.layers = [] # array de camas com objetos da classe Layer\n",
    "        self.cost_func = cost_func\n",
    "        self.learning_rate = learning_rate\n",
    "    \n",
    "    def fit(self, x_train, y_train, epochs=100, verbose=10): #verbose = mostrar a função de custo\n",
    "        for epoch in range(epochs + 1):\n",
    "            y_pred = self.__feedforward(x_train)\n",
    "            self.__backprop(y_train, y_pred)\n",
    "            \n",
    "            if epoch % verbose == 0:\n",
    "                loss_train = self.cost_func(y_train, self.predict(x_train))\n",
    "                print(\"epoch: {0:=4}/{1}. loss_train: {2:.8f}\".format(epoch, epochs, loss_train))\n",
    "    \n",
    "    def predict(self, x):\n",
    "        return self.__feedforward(x) #passando as amostrar no feed forward\n",
    "    \n",
    "    def __feedforward(self, x): # deixando \"nao acessivel\" com o \"__\"\n",
    "        self.layers[0].input = x # entrada da primeira camada, os dados\n",
    "        \n",
    "        # loop para acessar a camada atual e a próxima, para calcular a função de ativação \n",
    "        for current_layer, next_layer in zip (self.layers, self.layers[1:] + [Layer(0, 0)]): \n",
    "            # adicionando um layer com a camada vazia para os dois arrays terem o msm tamanho e a\n",
    "            #current_layer acessar a ultima camada\n",
    "            y = np.dot(current_layer.input, current_layer.weights.T) + current_layer.biases\n",
    "            current_layer._activ_inp = y\n",
    "            current_layer._activ_out = next_layer.input = current_layer.activation(y)\n",
    "        return self.layers[-1]._activ_out\n",
    "    \n",
    "    \n",
    "    def __backprop(self, y, y_pred):\n",
    "        # derivada da função de custo\n",
    "        last_delta = self.cost_func(y, y_pred, derivative=True)\n",
    "        \n",
    "        # derivada em relacao as camadas\n",
    "        for layer in reversed(self.layers):\n",
    "            \n",
    "            # derivada da função de ativação\n",
    "            dactivation = layer.activation(layer._activ_inp, derivative=True) * last_delta\n",
    "            \n",
    "            # atualizando o last_delta\n",
    "            last_delta = np.dot(dactivation, layer.weights)\n",
    "            \n",
    "            # derivada em relacao aos pesos e bias\n",
    "            layer._dweights = np.dot(dactivation.T, layer.input)\n",
    "            layer._dbiases = 1.0 * dactivation.sum(axis=0, keepdims=True)\n",
    "            \n",
    "        # atualizando pesos e bias\n",
    "        for layer in reversed(self.layers):\n",
    "            layer.weights = layer.weights - self.learning_rate * layer._dweights\n",
    "            layer.biases = layer.biases - self.learning_rate * layer._dbiases                 "
   ]
  },
  {
   "cell_type": "markdown",
   "metadata": {},
   "source": [
    "## Exemplos do Notebook da Intuição"
   ]
  },
  {
   "cell_type": "markdown",
   "metadata": {},
   "source": [
    "### Exemplo 1\n",
    "\n",
    "Neste exemplo, a rede possui:\n",
    "- 2 camadas\n",
    "- função de ativação sigmoid\n",
    "- learning rate de 0.5\n",
    "- 1 epoch"
   ]
  },
  {
   "cell_type": "code",
   "execution_count": 36,
   "metadata": {
    "ExecuteTime": {
     "end_time": "2023-05-13T14:52:39.892048Z",
     "start_time": "2023-05-13T14:52:39.883030Z"
    }
   },
   "outputs": [
    {
     "name": "stdout",
     "output_type": "stream",
     "text": [
      "epoch:    0/0. loss_train: 0.14023572\n",
      "[[0.14978072 0.19956143]\n",
      " [0.24975114 0.29950229]]\n",
      "[[0.35891648 0.40866619]\n",
      " [0.51130127 0.56137012]]\n"
     ]
    }
   ],
   "source": [
    "# entradas\n",
    "x = np.array([[0.05, 0.10]])\n",
    "y = np.array([[0.01, 0.99]])\n",
    "\n",
    "# pesos e bias\n",
    "w1 = np.array([[0.15, 0.20], [0.25, 0.30]])\n",
    "b1 = np.array([[0.35]]) \n",
    "w2 = np.array([[0.40, 0.45], [0.50, 0.55]])\n",
    "b2 = np.array([[0.60]])\n",
    "\n",
    "# defninindo dimensoes\n",
    "input_dim, output_dim = x.shape[1], y.shape[1] # N colunas\n",
    "\n",
    "# definindo a rede\n",
    "nn = NeuralNetwork(cost_func=mse, learning_rate = 0.5)\n",
    "\n",
    "# adicionando camadas\n",
    "# a dimensao da saída é 2 porque é igual ao numero de neuronios\n",
    "nn.layers.append(Layer(input_dim=input_dim, output_dim=2, activation=sigmoid))\n",
    "\n",
    "#input_dim = 2 porque a entrada da próxima é igual a saída da anterior\n",
    "nn.layers.append(Layer(input_dim=2, output_dim=output_dim, activation=sigmoid))\n",
    "\n",
    "# atribuindo pesos e bias\n",
    "nn.layers[0].weights = w1 # primeira camada\n",
    "nn.layers[0].biases = b1\n",
    "nn.layers[1].weights = w2 # segunda camada\n",
    "nn.layers[1].biases = b2\n",
    "\n",
    "# fitando a rede\n",
    "nn.fit(x, y, epochs=0, verbose=1)\n",
    "\n",
    "# visualizando pesos da camada\n",
    "for layer in nn.layers:\n",
    "    print(layer.weights)"
   ]
  },
  {
   "cell_type": "markdown",
   "metadata": {},
   "source": [
    "### Exemplo 2\n",
    "\n",
    "Neste segundo exemplo, a rede possui:\n",
    "- 3 camadas;\n",
    "- Cada uma com a seguinte função de ativação: relu, sigmoid, linear;\n",
    "- Como função de custo soft_max_neg_log_likelihood;\n",
    "- Learning rate de 0.01\n",
    "- 300 epochs"
   ]
  },
  {
   "cell_type": "code",
   "execution_count": 38,
   "metadata": {
    "ExecuteTime": {
     "end_time": "2023-05-13T15:02:48.558075Z",
     "start_time": "2023-05-13T15:02:48.534149Z"
    }
   },
   "outputs": [
    {
     "name": "stdout",
     "output_type": "stream",
     "text": [
      "epoch:    0/300. loss_train: 1.14054966\n",
      "epoch:   30/300. loss_train: 0.59630022\n",
      "epoch:   60/300. loss_train: 0.36031189\n",
      "epoch:   90/300. loss_train: 0.24668884\n",
      "epoch:  120/300. loss_train: 0.18386202\n",
      "epoch:  150/300. loss_train: 0.14510157\n",
      "epoch:  180/300. loss_train: 0.11918285\n",
      "epoch:  210/300. loss_train: 0.10078511\n",
      "epoch:  240/300. loss_train: 0.08712037\n",
      "epoch:  270/300. loss_train: 0.07660623\n",
      "epoch:  300/300. loss_train: 0.06828531\n",
      "[[0.10083595 0.2016719  0.30585165]\n",
      " [0.30086971 0.20173942 0.70608796]\n",
      " [0.40145052 0.30290104 0.91015363]]\n",
      "[[0.20544723 0.30673159 0.50749567]\n",
      " [0.30994562 0.5123005  0.71366784]\n",
      " [0.61065514 0.41317913 0.81464085]]\n",
      "[[ 0.66465527  0.98758148  1.39393956]\n",
      " [ 0.05020341  0.44006253 -0.06274803]\n",
      " [ 0.18514132 -0.12764401  0.56880846]]\n"
     ]
    }
   ],
   "source": [
    "x = np.array([[0.1, 0.2, 0.7]])\n",
    "y = np.array([[1, 0, 0]])\n",
    "\n",
    "# defninindo dimensoes\n",
    "D_in, D_out = x.shape[1], y.shape[1]\n",
    "\n",
    "w1 = np.array([[0.1, 0.2, 0.3], [0.3, 0.2, 0.7], [0.4, 0.3, 0.9]])\n",
    "b1 = np.ones((1,3))\n",
    "w2 = np.array([[0.2, 0.3, 0.5], [0.3, 0.5, 0.7], [0.6, 0.4, 0.8]])\n",
    "b2 = np.ones((1,3))\n",
    "w3 = np.array([[0.1, 0.4, 0.8], [0.3, 0.7, 0.2], [0.5, 0.2, 0.9]])\n",
    "b3 = np.ones((1,3))\n",
    "\n",
    "# definindo a rede\n",
    "nn = NeuralNetwork(cost_func=softmax_neg_log_likelihood, learning_rate = 0.01)\n",
    "\n",
    "# adicionando camadas\n",
    "nn.layers.append(Layer(input_dim=D_in, output_dim=3, activation=relu))\n",
    "nn.layers.append(Layer(input_dim=3, output_dim=3, activation=sigmoid)) \n",
    "nn.layers.append(Layer(input_dim=3, output_dim=D_out, activation=linear)) \n",
    "\n",
    "# atribuindo pesos e bias\n",
    "for i, w, b in zip(range(3), [w1, w2, w3], [b1, b2, b3]):\n",
    "    nn.layers[i].weights = w\n",
    "    nn.layers[i].biases = b\n",
    "\n",
    "# fitando a rede\n",
    "nn.fit(x, y, epochs=300, verbose=30)\n",
    "\n",
    "# visualizando pesos da camada\n",
    "for layer in nn.layers:\n",
    "    print(layer.weights)"
   ]
  },
  {
   "cell_type": "markdown",
   "metadata": {
    "collapsed": true
   },
   "source": [
    "## Gradient Checking"
   ]
  },
  {
   "cell_type": "code",
   "execution_count": null,
   "metadata": {},
   "outputs": [],
   "source": []
  },
  {
   "cell_type": "code",
   "execution_count": null,
   "metadata": {},
   "outputs": [],
   "source": []
  },
  {
   "cell_type": "code",
   "execution_count": null,
   "metadata": {},
   "outputs": [],
   "source": []
  },
  {
   "cell_type": "code",
   "execution_count": null,
   "metadata": {},
   "outputs": [],
   "source": []
  },
  {
   "cell_type": "markdown",
   "metadata": {},
   "source": [
    "## Regressão"
   ]
  },
  {
   "cell_type": "markdown",
   "metadata": {},
   "source": [
    "### Regressão Linear Simples - Exemplo do Perceptron"
   ]
  },
  {
   "cell_type": "code",
   "execution_count": 25,
   "metadata": {
    "ExecuteTime": {
     "end_time": "2023-05-13T14:46:03.596377Z",
     "start_time": "2023-05-13T14:46:03.516047Z"
    }
   },
   "outputs": [
    {
     "name": "stdout",
     "output_type": "stream",
     "text": [
      "(100, 2)\n",
      "(100, 1) (100, 1)\n"
     ]
    },
    {
     "data": {
      "text/plain": [
       "<matplotlib.collections.PathCollection at 0x7fe84b099510>"
      ]
     },
     "execution_count": 25,
     "metadata": {},
     "output_type": "execute_result"
    },
    {
     "data": {
      "image/png": "[encoded data removed]",
      "text/plain": [
       "<Figure size 432x288 with 1 Axes>"
      ]
     },
     "metadata": {
      "needs_background": "light"
     },
     "output_type": "display_data"
    }
   ],
   "source": [
    "data = np.loadtxt('data/medidas.csv', delimiter=',', skiprows=1)\n",
    "print(data.shape)\n",
    "\n",
    "x, y = data[:,0].reshape(-1,1), data[:,1].reshape(-1,1)\n",
    "print(x.shape, y.shape)\n",
    "plt.scatter(x, y)"
   ]
  },
  {
   "cell_type": "code",
   "execution_count": 26,
   "metadata": {
    "ExecuteTime": {
     "end_time": "2023-05-13T14:46:03.675344Z",
     "start_time": "2023-05-13T14:46:03.597788Z"
    }
   },
   "outputs": [
    {
     "name": "stdout",
     "output_type": "stream",
     "text": [
      "-1.0 0.9999999999999991\n"
     ]
    },
    {
     "data": {
      "text/plain": [
       "<matplotlib.collections.PathCollection at 0x7fe84ae462f0>"
      ]
     },
     "execution_count": 26,
     "metadata": {},
     "output_type": "execute_result"
    },
    {
     "data": {
      "image/png": "[encoded data removed]",
      "text/plain": [
       "<Figure size 432x288 with 1 Axes>"
      ]
     },
     "metadata": {
      "needs_background": "light"
     },
     "output_type": "display_data"
    }
   ],
   "source": [
    "minmax = MinMaxScaler(feature_range=(-1, 1))\n",
    "x = minmax.fit_transform(x.astype(np.float64))\n",
    "\n",
    "print(x.min(), x.max())\n",
    "plt.scatter(x, y)"
   ]
  },
  {
   "cell_type": "code",
   "execution_count": 27,
   "metadata": {
    "ExecuteTime": {
     "end_time": "2023-05-13T14:46:03.773483Z",
     "start_time": "2023-05-13T14:46:03.676475Z"
    }
   },
   "outputs": [
    {
     "ename": "NameError",
     "evalue": "name 'nn' is not defined",
     "output_type": "error",
     "traceback": [
      "\u001b[0;31m---------------------------------------------------------------------------\u001b[0m",
      "\u001b[0;31mNameError\u001b[0m                                 Traceback (most recent call last)",
      "\u001b[0;32m/tmp/ipykernel_11212/1713243518.py\u001b[0m in \u001b[0;36m<module>\u001b[0;34m\u001b[0m\n\u001b[1;32m      6\u001b[0m \u001b[0mplt\u001b[0m\u001b[0;34m.\u001b[0m\u001b[0msubplot\u001b[0m\u001b[0;34m(\u001b[0m\u001b[0;36m1\u001b[0m\u001b[0;34m,\u001b[0m \u001b[0;36m2\u001b[0m\u001b[0;34m,\u001b[0m \u001b[0;36m1\u001b[0m\u001b[0;34m)\u001b[0m\u001b[0;34m\u001b[0m\u001b[0;34m\u001b[0m\u001b[0m\n\u001b[1;32m      7\u001b[0m \u001b[0mplt\u001b[0m\u001b[0;34m.\u001b[0m\u001b[0mscatter\u001b[0m\u001b[0;34m(\u001b[0m\u001b[0mx\u001b[0m\u001b[0;34m,\u001b[0m \u001b[0my\u001b[0m\u001b[0;34m)\u001b[0m\u001b[0;34m\u001b[0m\u001b[0;34m\u001b[0m\u001b[0m\n\u001b[0;32m----> 8\u001b[0;31m \u001b[0mplt\u001b[0m\u001b[0;34m.\u001b[0m\u001b[0mplot\u001b[0m\u001b[0;34m(\u001b[0m\u001b[0mx\u001b[0m\u001b[0;34m,\u001b[0m \u001b[0mnn\u001b[0m\u001b[0;34m.\u001b[0m\u001b[0mpredict\u001b[0m\u001b[0;34m(\u001b[0m\u001b[0mx\u001b[0m\u001b[0;34m)\u001b[0m\u001b[0;34m,\u001b[0m \u001b[0mc\u001b[0m\u001b[0;34m=\u001b[0m\u001b[0;34m'green'\u001b[0m\u001b[0;34m)\u001b[0m\u001b[0;34m\u001b[0m\u001b[0;34m\u001b[0m\u001b[0m\n\u001b[0m",
      "\u001b[0;31mNameError\u001b[0m: name 'nn' is not defined"
     ]
    },
    {
     "data": {
      "image/png": "[encoded data removed]",
      "text/plain": [
       "<Figure size 864x432 with 1 Axes>"
      ]
     },
     "metadata": {
      "needs_background": "light"
     },
     "output_type": "display_data"
    }
   ],
   "source": [
    "input_dim, output_dim = x.shape[1], y.shape[1]\n",
    "\n",
    "# insira sua rede aqui!\n",
    "\n",
    "plt.figure(figsize=(12, 6))\n",
    "plt.subplot(1, 2, 1)\n",
    "plt.scatter(x, y)\n",
    "plt.plot(x, nn.predict(x), c='green')"
   ]
  },
  {
   "cell_type": "markdown",
   "metadata": {},
   "source": [
    "### Regressão Linear Multivariada - Exercício de Regressão do Perceptron"
   ]
  },
  {
   "cell_type": "code",
   "execution_count": null,
   "metadata": {
    "ExecuteTime": {
     "end_time": "2023-05-13T14:46:03.778429Z",
     "start_time": "2023-05-13T14:46:03.778418Z"
    }
   },
   "outputs": [],
   "source": [
    "data = np.loadtxt('data/notas.csv', delimiter=',', skiprows=1)\n",
    "print(data.shape)\n",
    "\n",
    "x, y = data[:,:-1], data[:,-1].reshape(-1,1)\n",
    "print(x.shape, y.shape)"
   ]
  },
  {
   "cell_type": "code",
   "execution_count": null,
   "metadata": {
    "ExecuteTime": {
     "end_time": "2023-05-13T14:46:03.779117Z",
     "start_time": "2023-05-13T14:46:03.779107Z"
    }
   },
   "outputs": [],
   "source": [
    "minmax = MinMaxScaler(feature_range=(-1, 1))\n",
    "x = minmax.fit_transform(x.astype(np.float64))\n",
    "\n",
    "print(x.min(axis=0), x.max(axis=0))\n",
    "plt.scatter(x, y)"
   ]
  },
  {
   "cell_type": "code",
   "execution_count": null,
   "metadata": {
    "ExecuteTime": {
     "end_time": "2023-05-13T14:46:03.779779Z",
     "start_time": "2023-05-13T14:46:03.779770Z"
    }
   },
   "outputs": [],
   "source": [
    "input_dim, output_dim = x.shape[1], y.shape[1]\n",
    "\n",
    "# insira sua rede aqui!"
   ]
  },
  {
   "cell_type": "markdown",
   "metadata": {},
   "source": [
    "### Regressão Quadrática"
   ]
  },
  {
   "cell_type": "code",
   "execution_count": null,
   "metadata": {
    "ExecuteTime": {
     "end_time": "2023-05-13T14:46:03.780630Z",
     "start_time": "2023-05-13T14:46:03.780620Z"
    }
   },
   "outputs": [],
   "source": [
    "x, y = make_square(n_samples=100, x_min=-10, x_max=10, a=1, b=1, c=1, noise=10)\n",
    "\n",
    "print(x.shape, y.shape)\n",
    "plt.scatter(x, y)"
   ]
  },
  {
   "cell_type": "code",
   "execution_count": null,
   "metadata": {
    "ExecuteTime": {
     "end_time": "2023-05-13T14:46:03.781213Z",
     "start_time": "2023-05-13T14:46:03.781204Z"
    }
   },
   "outputs": [],
   "source": [
    "minmax = MinMaxScaler(feature_range=(-1, 1))\n",
    "x = minmax.fit_transform(x.astype(np.float64))\n",
    "\n",
    "print(x.min(axis=0), x.max(axis=0))"
   ]
  },
  {
   "cell_type": "code",
   "execution_count": null,
   "metadata": {
    "ExecuteTime": {
     "end_time": "2023-05-13T14:46:03.781826Z",
     "start_time": "2023-05-13T14:46:03.781817Z"
    }
   },
   "outputs": [],
   "source": [
    "input_dim, output_dim = x.shape[1], y.shape[1]\n",
    "\n",
    "# insira sua rede aqui!\n",
    "\n",
    "plt.figure(figsize=(12, 6))\n",
    "plt.subplot(1, 2, 1)\n",
    "plt.scatter(x, y)\n",
    "plt.plot(x, nn.predict(x), c='green')"
   ]
  },
  {
   "cell_type": "markdown",
   "metadata": {},
   "source": [
    "### Regressão Cúbica"
   ]
  },
  {
   "cell_type": "code",
   "execution_count": null,
   "metadata": {
    "ExecuteTime": {
     "end_time": "2023-05-13T14:46:03.782348Z",
     "start_time": "2023-05-13T14:46:03.782338Z"
    }
   },
   "outputs": [],
   "source": [
    "x, y = make_cubic(n_samples=100, x_min=-4, x_max=4, a=1, b=0, c=-10, d=0, noise=3)\n",
    "\n",
    "print(x.shape, y.shape)\n",
    "plt.scatter(x, y)"
   ]
  },
  {
   "cell_type": "code",
   "execution_count": null,
   "metadata": {
    "ExecuteTime": {
     "end_time": "2023-05-13T14:46:03.782841Z",
     "start_time": "2023-05-13T14:46:03.782832Z"
    }
   },
   "outputs": [],
   "source": [
    "minmax = MinMaxScaler(feature_range=(-1, 1))\n",
    "x = minmax.fit_transform(x.astype(np.float64))\n",
    "\n",
    "print(x.min(axis=0), x.max(axis=0))"
   ]
  },
  {
   "cell_type": "code",
   "execution_count": null,
   "metadata": {
    "ExecuteTime": {
     "end_time": "2023-05-13T14:46:03.783528Z",
     "start_time": "2023-05-13T14:46:03.783519Z"
    }
   },
   "outputs": [],
   "source": [
    "input_dim, output_dim = x.shape[1], y.shape[1]\n",
    "\n",
    "# insira sua rede aqui!\n",
    "\n",
    "plt.figure(figsize=(12, 6))\n",
    "plt.subplot(1, 2, 1)\n",
    "plt.scatter(x, y)\n",
    "plt.plot(x, nn.predict(x), c='green')"
   ]
  },
  {
   "cell_type": "markdown",
   "metadata": {},
   "source": [
    "### Regressão Logarítimica"
   ]
  },
  {
   "cell_type": "code",
   "execution_count": null,
   "metadata": {
    "ExecuteTime": {
     "end_time": "2023-05-13T14:46:03.784196Z",
     "start_time": "2023-05-13T14:46:03.784187Z"
    }
   },
   "outputs": [],
   "source": [
    "x, y = make_log10(n_samples=100, x_min=1, x_max=100, noise=0.3)\n",
    "\n",
    "print(x.shape, y.shape)\n",
    "plt.scatter(x, y)"
   ]
  },
  {
   "cell_type": "code",
   "execution_count": null,
   "metadata": {
    "ExecuteTime": {
     "end_time": "2023-05-13T14:46:03.784690Z",
     "start_time": "2023-05-13T14:46:03.784681Z"
    }
   },
   "outputs": [],
   "source": [
    "minmax = MinMaxScaler(feature_range=(-1, 1))\n",
    "x = minmax.fit_transform(x.astype(np.float64))\n",
    "\n",
    "print(x.min(axis=0), x.max(axis=0))"
   ]
  },
  {
   "cell_type": "code",
   "execution_count": null,
   "metadata": {
    "ExecuteTime": {
     "end_time": "2023-05-13T14:46:03.785140Z",
     "start_time": "2023-05-13T14:46:03.785131Z"
    }
   },
   "outputs": [],
   "source": [
    "input_dim, output_dim = x.shape[1], y.shape[1]\n",
    "\n",
    "# insira sua rede aqui!\n",
    "\n",
    "plt.figure(figsize=(12, 6))\n",
    "plt.subplot(1, 2, 1)\n",
    "plt.scatter(x, y)\n",
    "plt.plot(x, nn.predict(x), c='green')"
   ]
  },
  {
   "cell_type": "markdown",
   "metadata": {},
   "source": [
    "### Regressão Exponencial"
   ]
  },
  {
   "cell_type": "code",
   "execution_count": null,
   "metadata": {
    "ExecuteTime": {
     "end_time": "2023-05-13T14:46:03.786281Z",
     "start_time": "2023-05-13T14:46:03.786269Z"
    }
   },
   "outputs": [],
   "source": [
    "x, y = make_exp(n_samples=100, x_min=0, x_max=5, noise=10)\n",
    "\n",
    "print(x.shape, y.shape)\n",
    "plt.scatter(x, y)"
   ]
  },
  {
   "cell_type": "code",
   "execution_count": null,
   "metadata": {
    "ExecuteTime": {
     "end_time": "2023-05-13T14:46:03.786890Z",
     "start_time": "2023-05-13T14:46:03.786879Z"
    }
   },
   "outputs": [],
   "source": [
    "minmax = MinMaxScaler(feature_range=(-1, 1))\n",
    "x = minmax.fit_transform(x.astype(np.float64))\n",
    "\n",
    "print(x.min(axis=0), x.max(axis=0))"
   ]
  },
  {
   "cell_type": "code",
   "execution_count": null,
   "metadata": {
    "ExecuteTime": {
     "end_time": "2023-05-13T14:46:03.787559Z",
     "start_time": "2023-05-13T14:46:03.787549Z"
    }
   },
   "outputs": [],
   "source": [
    "input_dim, output_dim = x.shape[1], y.shape[1]\n",
    "\n",
    "# insira sua rede aqui!\n",
    "\n",
    "plt.figure(figsize=(12, 6))\n",
    "plt.subplot(1, 2, 1)\n",
    "plt.scatter(x, y)\n",
    "plt.plot(x, nn.predict(x), c='green')"
   ]
  },
  {
   "cell_type": "markdown",
   "metadata": {},
   "source": [
    "## Classificação Binária"
   ]
  },
  {
   "cell_type": "markdown",
   "metadata": {},
   "source": [
    "### Porta AND/OR"
   ]
  },
  {
   "cell_type": "code",
   "execution_count": null,
   "metadata": {
    "ExecuteTime": {
     "end_time": "2023-05-13T14:46:03.788182Z",
     "start_time": "2023-05-13T14:46:03.788172Z"
    }
   },
   "outputs": [],
   "source": [
    "x = np.array([[0, 0], [0, 1], [1, 0], [1, 1]])\n",
    "y = np.array([0, 0, 0, 1]).reshape(-1, 1)\n",
    "\n",
    "print(x.shape, y.shape)\n",
    "plt.scatter(x[:,0], x[:,1], c=list(np.array(y).ravel()), s=15, cmap='bwr')"
   ]
  },
  {
   "cell_type": "code",
   "execution_count": null,
   "metadata": {
    "ExecuteTime": {
     "end_time": "2023-05-13T14:46:03.788838Z",
     "start_time": "2023-05-13T14:46:03.788827Z"
    }
   },
   "outputs": [],
   "source": [
    "input_dim, output_dim = x.shape[1], y.shape[1]\n",
    "\n",
    "# insira sua rede aqui!\n",
    "\n",
    "y_pred = nn.predict(x)\n",
    "print('Predições:', y_pred, sep='\\n')\n",
    "print('Acurácia: {:.2f}%'.format(100*accuracy_score(y, y_pred > 0.5)))\n",
    "\n",
    "plot.classification_predictions(x, y, is_binary=True, nn=nn, cmap='bwr')"
   ]
  },
  {
   "cell_type": "markdown",
   "metadata": {},
   "source": [
    "### Porta XOR"
   ]
  },
  {
   "cell_type": "code",
   "execution_count": null,
   "metadata": {
    "ExecuteTime": {
     "end_time": "2023-05-13T14:46:03.789444Z",
     "start_time": "2023-05-13T14:46:03.789435Z"
    }
   },
   "outputs": [],
   "source": [
    "x = np.array([[0, 0], [0, 1], [1, 0], [1, 1]])\n",
    "y = np.array([0, 1, 1, 0]).reshape(-1, 1)\n",
    "\n",
    "print(x.shape, y.shape)\n",
    "plt.scatter(x[:,0], x[:,1], c=list(np.array(y).ravel()), s=15, cmap='bwr')"
   ]
  },
  {
   "cell_type": "code",
   "execution_count": null,
   "metadata": {
    "ExecuteTime": {
     "end_time": "2023-05-13T14:46:03.790132Z",
     "start_time": "2023-05-13T14:46:03.790122Z"
    }
   },
   "outputs": [],
   "source": [
    "input_dim, output_dim = x.shape[1], y.shape[1]\n",
    "\n",
    "# insira sua rede aqui!\n",
    "\n",
    "y_pred = nn.predict(x)\n",
    "print('Predições:', y_pred, sep='\\n')\n",
    "print('Acurácia: {:.2f}%'.format(100*accuracy_score(y, y_pred > 0.5)))\n",
    "\n",
    "plot.classification_predictions(x, y, is_binary=True, nn=nn, cmap='bwr')"
   ]
  },
  {
   "cell_type": "markdown",
   "metadata": {},
   "source": [
    "### 2 Clusters"
   ]
  },
  {
   "cell_type": "code",
   "execution_count": null,
   "metadata": {
    "ExecuteTime": {
     "end_time": "2023-05-13T14:46:03.790625Z",
     "start_time": "2023-05-13T14:46:03.790616Z"
    }
   },
   "outputs": [],
   "source": [
    "x, y = make_blobs(n_samples=100, n_features=2, centers=2, random_state=1234)\n",
    "y = y.reshape(-1, 1)\n",
    "\n",
    "print(x.shape, y.shape)\n",
    "plt.scatter(x[:,0], x[:,1], c=list(np.array(y).ravel()), s=15, cmap='bwr')"
   ]
  },
  {
   "cell_type": "code",
   "execution_count": null,
   "metadata": {
    "ExecuteTime": {
     "end_time": "2023-05-13T14:46:03.791178Z",
     "start_time": "2023-05-13T14:46:03.791168Z"
    }
   },
   "outputs": [],
   "source": [
    "input_dim, output_dim = x.shape[1], y.shape[1]\n",
    "\n",
    "# insira sua rede aqui!\n",
    "\n",
    "y_pred = nn.predict(x)\n",
    "\n",
    "threshold = 0 if nn.layers[-1].activation == linear else 0.5\n",
    "print('Acurácia: {:.2f}%'.format(100*accuracy_score(y, y_pred >= threshold)))\n",
    "plot.classification_predictions(x, y, is_binary=True, nn=nn, threshold=threshold, cmap='bwr')"
   ]
  },
  {
   "cell_type": "markdown",
   "metadata": {},
   "source": [
    "### 4 Clusters"
   ]
  },
  {
   "cell_type": "code",
   "execution_count": null,
   "metadata": {
    "ExecuteTime": {
     "end_time": "2023-05-13T14:46:03.791596Z",
     "start_time": "2023-05-13T14:46:03.791586Z"
    }
   },
   "outputs": [],
   "source": [
    "x, y = make_blobs(n_samples=500, n_features=2, cluster_std=0.9, centers=[(-3, -3), (3, 3), (-3, 3), (3, -3)], random_state=1234)\n",
    "y = y.reshape(-1, 1)\n",
    "y = np.where(y >= 2, 1, 0)\n",
    "\n",
    "print(x.shape, y.shape)\n",
    "plt.scatter(x[:,0], x[:,1], c=list(np.array(y).ravel()), s=15, cmap='bwr')"
   ]
  },
  {
   "cell_type": "code",
   "execution_count": null,
   "metadata": {
    "ExecuteTime": {
     "end_time": "2023-05-13T14:46:03.792281Z",
     "start_time": "2023-05-13T14:46:03.792272Z"
    }
   },
   "outputs": [],
   "source": [
    "input_dim, output_dim = x.shape[1], y.shape[1]\n",
    "\n",
    "# insira sua rede aqui!\n",
    "\n",
    "y_pred = nn.predict(x)\n",
    "print('Acurácia: {:.2f}%'.format(100*accuracy_score(y, y_pred > 0.5)))\n",
    "\n",
    "plot.classification_predictions(x, y, is_binary=True, nn=nn, threshold=0.5, cmap='bwr')"
   ]
  },
  {
   "cell_type": "markdown",
   "metadata": {},
   "source": [
    "### Círculos"
   ]
  },
  {
   "cell_type": "code",
   "execution_count": null,
   "metadata": {
    "ExecuteTime": {
     "end_time": "2023-05-13T14:46:03.792975Z",
     "start_time": "2023-05-13T14:46:03.792965Z"
    }
   },
   "outputs": [],
   "source": [
    "x, y = make_circles(n_samples=500, noise=0.1, factor=0.4, random_state=1234)\n",
    "y = y.reshape(-1, 1)\n",
    "\n",
    "print(x.shape, y.shape)\n",
    "plt.scatter(x[:,0], x[:,1], c=list(np.array(y).ravel()), s=15, cmap='bwr')"
   ]
  },
  {
   "cell_type": "code",
   "execution_count": null,
   "metadata": {
    "ExecuteTime": {
     "end_time": "2023-05-13T14:46:03.793554Z",
     "start_time": "2023-05-13T14:46:03.793546Z"
    }
   },
   "outputs": [],
   "source": [
    "input_dim, output_dim = x.shape[1], y.shape[1]\n",
    "\n",
    "# insira sua rede aqui!\n",
    "\n",
    "y_pred = nn.predict(x)\n",
    "print('Acurácia: {:.2f}%'.format(100*accuracy_score(y, y_pred > 0.5)))\n",
    "\n",
    "plot.classification_predictions(x, y, is_binary=True, nn=nn, threshold=0.5, cmap='bwr')"
   ]
  },
  {
   "cell_type": "markdown",
   "metadata": {},
   "source": [
    "### Moons"
   ]
  },
  {
   "cell_type": "code",
   "execution_count": null,
   "metadata": {
    "ExecuteTime": {
     "end_time": "2023-05-13T14:46:03.794217Z",
     "start_time": "2023-05-13T14:46:03.794207Z"
    }
   },
   "outputs": [],
   "source": [
    "x, y = make_moons(200, noise=0.20)\n",
    "y = y.reshape(-1, 1)\n",
    "\n",
    "print(x.shape, y.shape)\n",
    "plt.scatter(x[:,0], x[:,1], c=list(np.array(y).ravel()), s=15, cmap='bwr')"
   ]
  },
  {
   "cell_type": "code",
   "execution_count": null,
   "metadata": {
    "ExecuteTime": {
     "end_time": "2023-05-13T14:46:03.794899Z",
     "start_time": "2023-05-13T14:46:03.794890Z"
    }
   },
   "outputs": [],
   "source": [
    "input_dim, output_dim = x.shape[1], y.shape[1]\n",
    "\n",
    "# insira sua rede aqui!\n",
    "\n",
    "y_pred = nn.predict(x)\n",
    "print('Acurácia: {:.2f}%'.format(100*accuracy_score(y, y_pred > 0.5)))\n",
    "\n",
    "plot.classification_predictions(x, y, is_binary=True, nn=nn, threshold=0.5, cmap='bwr')"
   ]
  },
  {
   "cell_type": "markdown",
   "metadata": {},
   "source": [
    "### Espiral"
   ]
  },
  {
   "cell_type": "code",
   "execution_count": null,
   "metadata": {
    "ExecuteTime": {
     "end_time": "2023-05-13T14:46:03.795382Z",
     "start_time": "2023-05-13T14:46:03.795373Z"
    }
   },
   "outputs": [],
   "source": [
    "x, y = make_spiral(n_samples=100, n_class=2, radius=5, laps=1.75)\n",
    "y = y.reshape(-1, 1)\n",
    "\n",
    "print(x.shape, y.shape)\n",
    "plt.scatter(x[:,0], x[:,1], c=list(np.array(y).ravel()), s=15, cmap='bwr')"
   ]
  },
  {
   "cell_type": "code",
   "execution_count": null,
   "metadata": {
    "ExecuteTime": {
     "end_time": "2023-05-13T14:46:03.796103Z",
     "start_time": "2023-05-13T14:46:03.796093Z"
    }
   },
   "outputs": [],
   "source": [
    "input_dim, output_dim = x.shape[1], y.shape[1]\n",
    "\n",
    "# insira sua rede aqui!\n",
    "\n",
    "y_pred = nn.predict(x)\n",
    "print('Acurácia: {:.2f}%'.format(100*accuracy_score(y, y_pred > 0.5)))\n",
    "\n",
    "plot.classification_predictions(x, y, is_binary=True, nn=nn, threshold=0.5, cmap='bwr')"
   ]
  },
  {
   "cell_type": "markdown",
   "metadata": {},
   "source": [
    "## Classificação Multiclasse"
   ]
  },
  {
   "cell_type": "markdown",
   "metadata": {},
   "source": [
    "### 3 Clusters Multiclasse"
   ]
  },
  {
   "cell_type": "code",
   "execution_count": null,
   "metadata": {
    "ExecuteTime": {
     "end_time": "2023-05-13T14:46:03.796680Z",
     "start_time": "2023-05-13T14:46:03.796671Z"
    }
   },
   "outputs": [],
   "source": [
    "x, y = make_blobs(n_samples=300, n_features=2, centers=[(0, -3), (-3, 3), (3, 3)], random_state=1234)\n",
    "y = y.reshape(-1, 1)\n",
    "\n",
    "print(x.shape, y.shape)\n",
    "plt.scatter(x[:,0], x[:,1], c=list(np.array(y).ravel()), s=15, cmap=plt.cm.viridis)"
   ]
  },
  {
   "cell_type": "code",
   "execution_count": null,
   "metadata": {
    "ExecuteTime": {
     "end_time": "2023-05-13T14:46:03.797175Z",
     "start_time": "2023-05-13T14:46:03.797166Z"
    }
   },
   "outputs": [],
   "source": [
    "onehot = OneHotEncoder(sparse=False)\n",
    "y_onehot = onehot.fit_transform(y)\n",
    "print(y_onehot[::60])"
   ]
  },
  {
   "cell_type": "code",
   "execution_count": null,
   "metadata": {
    "ExecuteTime": {
     "end_time": "2023-05-13T14:46:03.797991Z",
     "start_time": "2023-05-13T14:46:03.797982Z"
    }
   },
   "outputs": [],
   "source": [
    "input_dim, output_dim = x.shape[1], y.shape[1]\n",
    "\n",
    "# insira sua rede aqui!\n",
    "    \n",
    "y_pred = np.argmax(nn.predict(x), axis=1)\n",
    "print('Acurácia: {:.2f}%'.format(100*accuracy_score(y, y_pred)))\n",
    "\n",
    "plot.classification_predictions(x, y, is_binary=False, nn=nn)"
   ]
  },
  {
   "cell_type": "markdown",
   "metadata": {},
   "source": [
    "### 4 Clusters Multiclasse"
   ]
  },
  {
   "cell_type": "code",
   "execution_count": null,
   "metadata": {
    "ExecuteTime": {
     "end_time": "2023-05-13T14:46:03.798700Z",
     "start_time": "2023-05-13T14:46:03.798691Z"
    }
   },
   "outputs": [],
   "source": [
    "x, y = make_blobs(n_samples=400, n_features=2, centers=[(-3, 0), (3, 0), (0, 3), (0, -3)], random_state=1234)\n",
    "y = y.reshape(-1, 1)\n",
    "\n",
    "print(x.shape, y.shape)\n",
    "plt.scatter(x[:,0], x[:,1], c=list(np.array(y).ravel()), s=15, cmap=plt.cm.viridis)"
   ]
  },
  {
   "cell_type": "code",
   "execution_count": null,
   "metadata": {
    "ExecuteTime": {
     "end_time": "2023-05-13T14:46:03.799174Z",
     "start_time": "2023-05-13T14:46:03.799165Z"
    }
   },
   "outputs": [],
   "source": [
    "onehot = OneHotEncoder(sparse=False)\n",
    "y_onehot = onehot.fit_transform(y)\n",
    "print(y_onehot[::70])"
   ]
  },
  {
   "cell_type": "code",
   "execution_count": null,
   "metadata": {
    "ExecuteTime": {
     "end_time": "2023-05-13T14:46:03.805248Z",
     "start_time": "2023-05-13T14:46:03.805239Z"
    }
   },
   "outputs": [],
   "source": [
    "input_dim, output_dim = x.shape[1], y.shape[1]\n",
    "\n",
    "# insira sua rede aqui!\n",
    "\n",
    "y_pred = np.argmax(nn.predict(x), axis=1)\n",
    "print('Acurácia: {:.2f}%'.format(100*accuracy_score(y, y_pred)))\n",
    "\n",
    "plot.classification_predictions(x, y, is_binary=False, nn=nn)"
   ]
  },
  {
   "cell_type": "markdown",
   "metadata": {},
   "source": [
    "### Espiral - 5 Classes"
   ]
  },
  {
   "cell_type": "code",
   "execution_count": null,
   "metadata": {
    "ExecuteTime": {
     "end_time": "2023-05-13T14:46:03.805717Z",
     "start_time": "2023-05-13T14:46:03.805707Z"
    }
   },
   "outputs": [],
   "source": [
    "x, y = make_spiral(n_samples=100, n_class=5, radius=1, laps=0.5)\n",
    "y = y.reshape(-1, 1)\n",
    "\n",
    "print(x.shape, y.shape)\n",
    "plt.scatter(x[:,0], x[:,1], c=list(np.array(y).ravel()), s=15, cmap=plt.cm.viridis)"
   ]
  },
  {
   "cell_type": "code",
   "execution_count": null,
   "metadata": {
    "ExecuteTime": {
     "end_time": "2023-05-13T14:46:03.806316Z",
     "start_time": "2023-05-13T14:46:03.806306Z"
    },
    "scrolled": true
   },
   "outputs": [],
   "source": [
    "onehot = OneHotEncoder(sparse=False)\n",
    "y_onehot = onehot.fit_transform(y)\n",
    "print(y_onehot[::100])"
   ]
  },
  {
   "cell_type": "code",
   "execution_count": null,
   "metadata": {
    "ExecuteTime": {
     "end_time": "2023-05-13T14:46:03.806789Z",
     "start_time": "2023-05-13T14:46:03.806779Z"
    },
    "scrolled": false
   },
   "outputs": [],
   "source": [
    "input_dim, output_dim = x.shape[1], y.shape[1]\n",
    "\n",
    "# insira sua rede aqui!\n",
    "\n",
    "y_pred = np.argmax(nn.predict(x), axis=1)\n",
    "print('Acurácia: {:.2f}%'.format(100*accuracy_score(y, y_pred)))\n",
    "\n",
    "plot.classification_predictions(x, y, is_binary=False, nn=nn)"
   ]
  },
  {
   "cell_type": "markdown",
   "metadata": {},
   "source": [
    "### Make Classification - 4 Classes"
   ]
  },
  {
   "cell_type": "code",
   "execution_count": null,
   "metadata": {
    "ExecuteTime": {
     "end_time": "2023-05-13T14:46:03.807298Z",
     "start_time": "2023-05-13T14:46:03.807290Z"
    }
   },
   "outputs": [],
   "source": [
    "x, y = make_classification(n_samples=100, n_classes=4, n_features=2, n_clusters_per_class=1, n_redundant=0, n_repeated=0, random_state=1234)\n",
    "y = y.reshape(-1, 1)\n",
    "\n",
    "print(x.shape, y.shape)\n",
    "plt.scatter(x[:,0], x[:,1], c=list(np.array(y).ravel()), s=15, cmap=plt.cm.viridis)"
   ]
  },
  {
   "cell_type": "code",
   "execution_count": null,
   "metadata": {
    "ExecuteTime": {
     "end_time": "2023-05-13T14:46:03.807782Z",
     "start_time": "2023-05-13T14:46:03.807773Z"
    }
   },
   "outputs": [],
   "source": [
    "onehot = OneHotEncoder(sparse=False)\n",
    "y_onehot = onehot.fit_transform(y)\n",
    "print(y_onehot[::10])"
   ]
  },
  {
   "cell_type": "code",
   "execution_count": null,
   "metadata": {
    "ExecuteTime": {
     "end_time": "2023-05-13T14:46:03.808360Z",
     "start_time": "2023-05-13T14:46:03.808350Z"
    }
   },
   "outputs": [],
   "source": [
    "input_dim, output_dim = x.shape[1], y.shape[1]\n",
    "\n",
    "# insira sua rede aqui!\n",
    "\n",
    "y_pred = np.argmax(nn.predict(x), axis=1)\n",
    "print('Acurácia: {:.2f}%'.format(100*accuracy_score(y, y_pred)))\n",
    "\n",
    "plot.classification_predictions(x, y, is_binary=False, nn=nn)"
   ]
  },
  {
   "cell_type": "markdown",
   "metadata": {},
   "source": [
    "### Iris Dataset"
   ]
  },
  {
   "cell_type": "code",
   "execution_count": null,
   "metadata": {
    "ExecuteTime": {
     "end_time": "2023-05-13T14:46:03.809569Z",
     "start_time": "2023-05-13T14:46:03.809558Z"
    }
   },
   "outputs": [],
   "source": [
    "data = load_iris()\n",
    "x, y = data.data[:, 2:], data.target.reshape(-1,1)\n",
    "\n",
    "print(data.feature_names)\n",
    "print(data.target_names)\n",
    "print(x.shape, y.shape)\n",
    "plt.scatter(x[:,0], x[:,1], c=list(np.array(y).ravel()), s=15, cmap=plt.cm.viridis)"
   ]
  },
  {
   "cell_type": "code",
   "execution_count": null,
   "metadata": {
    "ExecuteTime": {
     "end_time": "2023-05-13T14:46:03.810379Z",
     "start_time": "2023-05-13T14:46:03.810368Z"
    }
   },
   "outputs": [],
   "source": [
    "onehot = OneHotEncoder(sparse=False)\n",
    "y_onehot = onehot.fit_transform(y)\n",
    "print(y_onehot[::20])"
   ]
  },
  {
   "cell_type": "code",
   "execution_count": null,
   "metadata": {
    "ExecuteTime": {
     "end_time": "2023-05-13T14:46:03.810899Z",
     "start_time": "2023-05-13T14:46:03.810889Z"
    }
   },
   "outputs": [],
   "source": [
    "input_dim, output_dim = x.shape[1], y.shape[1]\n",
    "\n",
    "# insira sua rede aqui!\n",
    "\n",
    "y_pred = np.argmax(nn.predict(x), axis=1)\n",
    "print('Acurácia: {:.2f}%'.format(100*accuracy_score(y, y_pred)))\n",
    "\n",
    "plot.classification_predictions(x, y, is_binary=False, nn=nn)"
   ]
  },
  {
   "cell_type": "markdown",
   "metadata": {},
   "source": [
    "# [Link para o Questionário](https://docs.google.com/forms/d/e/1FAIpQLSf1B3JKsPPPc1oYD_3FyX4UvNLpcXnTW2I177A_WE0_B56Elw/viewform?usp=sf_link)"
   ]
  },
  {
   "cell_type": "markdown",
   "metadata": {},
   "source": [
    "# Referências"
   ]
  },
  {
   "cell_type": "markdown",
   "metadata": {},
   "source": [
    "- [Tensorflow Playground](http://playground.tensorflow.org/#activation=tanh&batchSize=10&dataset=circle&regDataset=reg-plane&learningRate=0.03&regularizationRate=0&noise=0&networkShape=4,2&seed=0.94880&showTestData=false&discretize=false&percTrainData=50&x=true&y=true&xTimesY=false&xSquared=false&ySquared=false&cosX=false&sinX=false&cosY=false&sinY=false&collectStats=false&problem=classification&initZero=false&hideText=false)\n",
    "\n",
    "- [Linear Classification](http://cs231n.github.io/linear-classify/)\n",
    "\n",
    "__Regularization__:\n",
    "- [Implementing Neural Network L1 Regularization](https://jamesmccaffrey.wordpress.com/2017/06/27/implementing-neural-network-l1-regularization/)\n",
    "- [Implementing Neural Network L2 Regularization](https://jamesmccaffrey.wordpress.com/2017/06/29/implementing-neural-network-l2-regularization/)\n",
    "- [Neural Network L2 Regularization Using Python](https://visualstudiomagazine.com/articles/2017/09/01/neural-network-l2.aspx)\n",
    "\n",
    "__Momentum__:\n",
    "- [Neural Network Momentum Using Python](https://visualstudiomagazine.com/articles/2017/08/01/neural-network-momentum.aspx)\n",
    "- [Beyond SGD: Gradient Descent with Momentum and Adaptive Learning Rate](https://wiseodd.github.io/techblog/2016/06/22/nn-optimization/)\n",
    "\n",
    "__Learning Rate Decay__:\n",
    "- [Using Learning Rate Schedules for Deep Learning Models in Python with Keras](https://machinelearningmastery.com/using-learning-rate-schedules-deep-learning-models-python-keras/)\n",
    "- [Learning Rate Schedules and Adaptive Learning Rate Methods for Deep Learning](https://towardsdatascience.com/learning-rate-schedules-and-adaptive-learning-rate-methods-for-deep-learning-2c8f433990d1)\n",
    "- [Tensorflow Exponential Decay Documentation](https://www.tensorflow.org/api_docs/python/tf/train/exponential_decay)\n",
    "\n",
    "__Batch Normalization__:\n",
    "- [Understanding the backward pass through Batch Normalization Layer](https://kratzert.github.io/2016/02/12/understanding-the-gradient-flow-through-the-batch-normalization-layer.html)\n",
    "- [Deriving the Gradient for the Backward Pass of Batch Normalization](https://kevinzakka.github.io/2016/09/14/batch_normalization/)\n",
    "- [Implementing BatchNorm in Neural Net](https://wiseodd.github.io/techblog/2016/07/04/batchnorm/)\n",
    "- [What does the gradient flowing through batch normalization looks like ?](http://cthorey.github.io./backpropagation/)\n",
    "- [GRADIENTS, BATCH NORMALIZATION AND LAYER NORMALIZATION](https://theneuralperspective.com/2016/10/27/gradient-topics/)\n",
    "\n",
    "__Gradient Checking__:\n",
    "- [cs231n](https://github.com/cs231n/cs231n.github.io/blob/master/neural-networks-3.md#gradcheck)\n",
    "- [Gradient checking and advanced optimization](http://ufldl.stanford.edu/wiki/index.php/Gradient_checking_and_advanced_optimization)\n",
    "- [BatchNormalization fails gradient checking](https://github.com/torch/nn/issues/744)"
   ]
  }
 ],
 "metadata": {
  "kernelspec": {
   "display_name": "Python 3 (ipykernel)",
   "language": "python",
   "name": "python3"
  },
  "language_info": {
   "codemirror_mode": {
    "name": "ipython",
    "version": 3
   },
   "file_extension": ".py",
   "mimetype": "text/x-python",
   "name": "python",
   "nbconvert_exporter": "python",
   "pygments_lexer": "ipython3",
   "version": "3.10.6"
  },
  "toc": {
   "base_numbering": 1,
   "nav_menu": {},
   "number_sections": true,
   "sideBar": true,
   "skip_h1_title": false,
   "title_cell": "Table of Contents",
   "title_sidebar": "Contents",
   "toc_cell": false,
   "toc_position": {
    "height": "calc(100% - 180px)",
    "left": "10px",
    "top": "150px",
    "width": "156.484px"
   },
   "toc_section_display": true,
   "toc_window_display": false
  },
  "varInspector": {
   "cols": {
    "lenName": 16,
    "lenType": 16,
    "lenVar": 40
   },
   "kernels_config": {
    "python": {
     "delete_cmd_postfix": "",
     "delete_cmd_prefix": "del ",
     "library": "var_list.py",
     "varRefreshCmd": "print(var_dic_list())"
    },
    "r": {
     "delete_cmd_postfix": ") ",
     "delete_cmd_prefix": "rm(",
     "library": "var_list.r",
     "varRefreshCmd": "cat(var_dic_list()) "
    }
   },
   "types_to_exclude": [
    "module",
    "function",
    "builtin_function_or_method",
    "instance",
    "_Feature"
   ],
   "window_display": false
  }
 },
 "nbformat": 4,
 "nbformat_minor": 2
}
